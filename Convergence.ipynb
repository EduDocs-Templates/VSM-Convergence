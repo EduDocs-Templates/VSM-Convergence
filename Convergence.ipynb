{
 "cells": [
  {
   "cell_type": "markdown",
   "metadata": {},
   "source": [
    "# Convergence\n",
    "\n",
    "In this activity, we explore the notion of convergence for iterative algorithms.\n"
   ]
  },
  {
   "cell_type": "code",
   "execution_count": null,
   "metadata": {},
   "outputs": [],
   "source": [
    "import numpy as np\n",
    "from numpy import linalg as LA\n",
    "from scipy.linalg import hadamard\n",
    "from scipy.stats import unitary_group, ortho_group\n",
    "import pandas as pd"
   ]
  },
  {
   "cell_type": "markdown",
   "metadata": {},
   "source": [
    "## Underdetermined Linear Systems\n",
    "\n",
    "Consider the following underdetermined system of linear equations, where (wide) matrix $A: \\mathbb{R}^m \\rightarrow \\mathbb{R}^n$ is a linear transformation and\n",
    "$$\\mathbf{y} = A \\mathbf{x} .$$\n",
    "Also, we are given the information that $\\mathbf{x}$ is a sparse vector, with only $K = 8$ non-zero entries.\n",
    "These non-zero entries are all ones."
   ]
  },
  {
   "cell_type": "code",
   "execution_count": null,
   "metadata": {},
   "outputs": [],
   "source": [
    "matrix_df = pd.read_csv('matrix.csv')\n",
    "A = matrix_df.values\n",
    "observation_df = pd.read_csv('observation.csv')\n",
    "y = observation_df.values"
   ]
  },
  {
   "cell_type": "markdown",
   "metadata": {},
   "source": [
    "## Composite Iterative Algorithm\n",
    "\n",
    "The algorithm is initialized with $\\mathbf{x}^{(0)}$ being the all-zero vector.\n",
    "The algorithm then proceeds by alternating between the following two steps:\n",
    "$$\\mathbf{z}^{(t)} = \\mathbf{y} - A \\mathbf{x}^{(t)}$$\n",
    "$$\\mathbf{x}^{(t+1)} = \\gamma A^{\\mathrm{T}} \\mathbf{z}^{(t)} + \\mathbf{x}^{(t)}$$"
   ]
  },
  {
   "cell_type": "code",
   "execution_count": null,
   "metadata": {},
   "outputs": [],
   "source": [
    "def CompositeStep(A_loc,y_loc,xt_loc,gamma):\n",
    "    zt_loc = y_loc - np.matmul(A_loc,xt)\n",
    "    return (gamma*np.matmul(A_loc.transpose(),zt_loc) + xt_loc)\n",
    "\n",
    "gamma = 0.25\n",
    "xt = np.zeros(shape=(A.shape[1],1))\n",
    "for iteration in range(200):\n",
    "    xt = CompositeStep(A,y,xt,gamma)\n",
    "print(np.linalg.norm(np.matmul(A,xt)-y))"
   ]
  },
  {
   "cell_type": "markdown",
   "metadata": {},
   "source": [
    "### Questions\n",
    " 1. What is the interval over which parameter `gamma` $\\gamma > 0$ produces a converging algorithm?\n",
    "     * **Answer:**\n",
    " 2. Can you infer the sparse pattern associated with the true `x`?\n",
    "     * **Answer:** Yes or No\n",
    " 3. Would the interval you have identified above hold for any observation `y`, or just for the one selected for this challenge?\n",
    "     * **Answer:**"
   ]
  },
  {
   "cell_type": "markdown",
   "metadata": {},
   "source": [
    "## Iterative Soft Tresholding\n",
    "\n",
    "We consider this alternative.\n",
    "The algorithm is initialized with $\\mathbf{x}^{(0)}$ being the all-zero vector.\n",
    "The algorithm then proceeds by alternating between the following two steps:\n",
    "$$\\mathbf{z}^{(t)} = \\mathbf{y} - A \\mathbf{x}^{(t)}$$\n",
    "$$\\mathbf{x}^{(t+1)} = \\eta \\left( A^{\\mathrm{T}} \\mathbf{z}^{(t)} + \\mathbf{x}^{(t)} \\right)$$\n",
    "where $\\eta(\\cdot)$ is a soft thresholding function."
   ]
  },
  {
   "cell_type": "code",
   "execution_count": null,
   "metadata": {},
   "outputs": [],
   "source": [
    "def SoftThreshold(r,threshold):\n",
    "    r_abs = np.absolute(r)\n",
    "    r_sign = np.sign(r)\n",
    "    return (r_sign * np.maximum(np.zeros(r.shape), r_abs - threshold*np.ones(r.shape)))\n",
    "\n",
    "def CompositeStepST(A,y,xt,threshold):\n",
    "    zt = y - np.matmul(A,xt)\n",
    "    rt = np.matmul(np.transpose(A),zt) + xt\n",
    "    xt = SoftThreshold(rt,threshold)\n",
    "    return xt"
   ]
  },
  {
   "cell_type": "code",
   "execution_count": null,
   "metadata": {},
   "outputs": [],
   "source": [
    "threshold = 0.01\n",
    "\n",
    "xt = np.zeros(shape=(A.shape[1],1))\n",
    "for iteration in range(10000):\n",
    "    xt = CompositeStepST(A,y,xt,threshold)\n",
    "print(np.linalg.norm(np.matmul(A,xt)-y))"
   ]
  },
  {
   "cell_type": "markdown",
   "metadata": {},
   "source": [
    "### Questions\n",
    " 1. Can you infer the sparse pattern associated with the true `x`?\n",
    "     * **Answer:** Yes or No\n",
    " 2. If this is the case, why would that be?\n",
    "     * **Answer:**"
   ]
  }
 ],
 "metadata": {
  "kernelspec": {
   "display_name": "Python 3",
   "language": "python",
   "name": "python3"
  },
  "language_info": {
   "codemirror_mode": {
    "name": "ipython",
    "version": 3
   },
   "file_extension": ".py",
   "mimetype": "text/x-python",
   "name": "python",
   "nbconvert_exporter": "python",
   "pygments_lexer": "ipython3",
   "version": "3.7.6"
  }
 },
 "nbformat": 4,
 "nbformat_minor": 4
}
